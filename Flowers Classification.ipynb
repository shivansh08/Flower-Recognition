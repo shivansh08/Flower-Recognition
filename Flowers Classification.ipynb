{
 "cells": [
  {
   "cell_type": "markdown",
   "metadata": {},
   "source": [
    "# Including Libraries"
   ]
  },
  {
   "cell_type": "code",
   "execution_count": null,
   "metadata": {},
   "outputs": [],
   "source": [
    "%pylab inline\n",
    "from PIL import Image\n",
    "import numpy as np\n",
    "import tensorflow as tf\n",
    "from keras.models import Sequential\n",
    "from keras.layers import Dense, Dropout, Flatten,Activation\n",
    "from keras.layers import Conv2D, MaxPooling2D\n",
    "from keras.utils import to_categorical\n",
    "from keras.optimizers import Adam\n",
    "import cv2\n",
    "from sklearn.preprocessing import LabelEncoder\n",
    "from sklearn.model_selection import train_test_split\n",
    "from tqdm import tqdm\n",
    "from keras.preprocessing.image import ImageDataGenerator\n",
    "import os\n",
    "import pickle\n",
    "import random as rn"
   ]
  },
  {
   "cell_type": "code",
   "execution_count": null,
   "metadata": {},
   "outputs": [],
   "source": [
    "flowers_info_list=['daisy','dandelion','rose','sunflower','tulip']"
   ]
  },
  {
   "cell_type": "code",
   "execution_count": null,
   "metadata": {},
   "outputs": [],
   "source": [
    "images_data=[]\n",
    "labels=[]\n",
    "DAISY_DIR='flowers-recognition/Daisy'\n",
    "SUNFLOWER_DIR='flowers-recognition/Sunflower'\n",
    "TULIP_DIR='flowers-recognition/Tulip'\n",
    "DANDELION_DIR='flowers-recognition/Dandelion'\n",
    "ROSE_DIR='flowers-recognition/Rose'"
   ]
  },
  {
   "cell_type": "markdown",
   "metadata": {},
   "source": [
    "# Creating Directories"
   ]
  },
  {
   "cell_type": "code",
   "execution_count": null,
   "metadata": {},
   "outputs": [],
   "source": [
    "directories_list = []\n",
    "for i in flowers_info_list:\n",
    "    print(i)\n",
    "    directories_list.append(str(os.path.join('flowers-recognition/',str(i))))\n"
   ]
  },
  {
   "cell_type": "code",
   "execution_count": null,
   "metadata": {},
   "outputs": [],
   "source": [
    "directories_list"
   ]
  },
  {
   "cell_type": "markdown",
   "metadata": {},
   "source": [
    "# Loading Images"
   ]
  },
  {
   "cell_type": "code",
   "execution_count": null,
   "metadata": {},
   "outputs": [],
   "source": [
    "def assign_label(img,flower_type):\n",
    "    return flower_type"
   ]
  },
  {
   "cell_type": "code",
   "execution_count": null,
   "metadata": {},
   "outputs": [],
   "source": [
    "def make_train_data(flower_type,DIR):\n",
    "    for img in tqdm(os.listdir(DIR)):\n",
    "        label=assign_label(img,flower_type)\n",
    "        path = os.path.join(DIR,img)\n",
    "        img = cv2.imread(path)\n",
    "        (b, g, r)=cv2.split(img)\n",
    "        img=cv2.merge([r,g,b])\n",
    "        img = cv2.resize(img, (200,200))\n",
    "        \n",
    "        images_data.append(np.array(img))\n",
    "        labels.append(str(label))"
   ]
  },
  {
   "cell_type": "code",
   "execution_count": null,
   "metadata": {
    "scrolled": true
   },
   "outputs": [],
   "source": [
    "for i in range(len(flowers_info_list)):\n",
    "    print(flowers_info_list[i])\n",
    "    make_train_data(flowers_info_list[i],directories_list[i])"
   ]
  },
  {
   "cell_type": "code",
   "execution_count": null,
   "metadata": {
    "scrolled": false
   },
   "outputs": [],
   "source": [
    "images_data[0].shape"
   ]
  },
  {
   "cell_type": "code",
   "execution_count": null,
   "metadata": {},
   "outputs": [],
   "source": [
    "img = cv2.imread('flowers-recognition/flowers/D/1.jpeg')\n",
    "(b, g, r)=cv2.split(img)\n",
    "img=cv2.merge([r,g,b])\n",
    "img = cv2.resize(img, (150,150))\n",
    "imshow(img)\n",
    "show()"
   ]
  },
  {
   "cell_type": "code",
   "execution_count": null,
   "metadata": {},
   "outputs": [],
   "source": [
    "le=LabelEncoder()\n",
    "Y=le.fit_transform(labels)\n",
    "Y=to_categorical(Y,5)\n",
    "images_data=np.array(images_data)\n",
    "images_data=images_data/255"
   ]
  },
  {
   "cell_type": "code",
   "execution_count": null,
   "metadata": {},
   "outputs": [],
   "source": [
    "x_train,x_test,y_train,y_test=train_test_split(images_data,Y,test_size=0.05)"
   ]
  },
  {
   "cell_type": "code",
   "execution_count": null,
   "metadata": {},
   "outputs": [],
   "source": [
    "model = Sequential()\n",
    "model.add(Conv2D(32, kernel_size=(3, 3), activation='relu', input_shape=input_shape))\n",
    "model.add(MaxPooling2D((2, 2)))\n",
    "model.add(Dropout(0.25))\n",
    "\n",
    "model.add(Conv2D(64, kernel_size=(3, 3), activation='relu'))\n",
    "model.add(MaxPooling2D(pool_size=(2, 2)))\n",
    "model.add(Dropout(0.25))\n",
    "model.add(Conv2D(128, kernel_size=(3, 3), activation='relu'))\n",
    "model.add(Dropout(0.4))\n",
    "\n",
    "model.add(Flatten())\n",
    "\n",
    "model.add(Dense(128, activation='relu'))\n",
    "model.add(Dropout(0.3))\n",
    "model.add(Dense(10, activation='softmax'))"
   ]
  },
  {
   "cell_type": "code",
   "execution_count": null,
   "metadata": {},
   "outputs": [],
   "source": [
    "model.compile(optimizer=Adam(lr=0.001),loss='categorical_crossentropy',metrics=['accuracy'])"
   ]
  },
  {
   "cell_type": "code",
   "execution_count": null,
   "metadata": {
    "scrolled": true
   },
   "outputs": [],
   "source": [
    "model.fit(x_train,y_train,validation_data=(x_test,y_test),epochs=10,batch_size=40,verbose=2)"
   ]
  },
  {
   "cell_type": "markdown",
   "metadata": {},
   "source": [
    "## Predicting Random Image"
   ]
  },
  {
   "cell_type": "code",
   "execution_count": null,
   "metadata": {},
   "outputs": [],
   "source": [
    "test=[]\n",
    "img = cv2.imread(\"image_0253.jpg\")\n",
    "(b, g, r)=cv2.split(img)\n",
    "img=cv2.merge([r,g,b])\n",
    "img = cv2.resize(img, (150,150))\n",
    "test.append(np.array(img))\n",
    "test = array(test)\n",
    "test = test/255"
   ]
  },
  {
   "cell_type": "code",
   "execution_count": null,
   "metadata": {},
   "outputs": [],
   "source": [
    "flowers_info_list[int(flower_model.predict_classes(test))]"
   ]
  },
  {
   "cell_type": "code",
   "execution_count": null,
   "metadata": {},
   "outputs": [],
   "source": [
    "flowers_info_list"
   ]
  },
  {
   "cell_type": "code",
   "execution_count": null,
   "metadata": {},
   "outputs": [],
   "source": [
    "flowers_test_list=list(os.listdir('17flowers'))"
   ]
  },
  {
   "cell_type": "code",
   "execution_count": null,
   "metadata": {},
   "outputs": [],
   "source": [
    "test_directory=[]\n",
    "for i in flowers_test_list:\n",
    "    print(i)\n",
    "    test_directory.append(str(os.path.join('17flowers/',str(i))))\n",
    "print(test_directory)"
   ]
  },
  {
   "cell_type": "code",
   "execution_count": null,
   "metadata": {},
   "outputs": [],
   "source": [
    "def test_dir(DIR,label):\n",
    "    print(label+'\\n\\n')\n",
    "    corr=0\n",
    "    wrong=0\n",
    "    for i in tqdm(os.listdir(DIR)):\n",
    "        test=[]\n",
    "        path = os.path.join(DIR,i)\n",
    "        img = cv2.imread(path)\n",
    "        (b, g, r)=cv2.split(img)\n",
    "        img=cv2.merge([r,g,b])\n",
    "        img = cv2.resize(img, (150,150))\n",
    "        test.append(np.array(img))\n",
    "        test = array(test)\n",
    "        test = test/255\n",
    "        print(flowers_info_list[int(flower_model.predict_classes(test))])\n",
    "        if((flowers_info_list[int(flower_model.predict_classes(test))])==label):\n",
    "            corr+=1\n",
    "        else:\n",
    "            wrong+=1\n",
    "\n",
    "    print('correctly predicted: ',corr,'\\n','wrongly predicted: ',wrong,'\\n')\n",
    "    print('Percentage: ',(corr/wrong)*100)\n",
    "    "
   ]
  },
  {
   "cell_type": "code",
   "execution_count": null,
   "metadata": {},
   "outputs": [],
   "source": [
    "for i in range(len(flowers_test_list)):\n",
    "    test_dir(test_directory[i],flowers_test_list[i])\n",
    "    "
   ]
  }
 ],
 "metadata": {
  "kernelspec": {
   "display_name": "Python 3",
   "language": "python",
   "name": "python3"
  },
  "language_info": {
   "codemirror_mode": {
    "name": "ipython",
    "version": 3
   },
   "file_extension": ".py",
   "mimetype": "text/x-python",
   "name": "python",
   "nbconvert_exporter": "python",
   "pygments_lexer": "ipython3",
   "version": "3.7.3"
  }
 },
 "nbformat": 4,
 "nbformat_minor": 2
}
