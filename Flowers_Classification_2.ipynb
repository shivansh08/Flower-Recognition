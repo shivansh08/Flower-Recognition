{
  "cells": [
    {
      "cell_type": "markdown",
      "metadata": {
        "id": "view-in-github",
        "colab_type": "text"
      },
      "source": [
        "<a href=\"https://colab.research.google.com/github/shivansh08/Flower-Recognition/blob/main/Flowers_Classification_2.ipynb\" target=\"_parent\"><img src=\"https://colab.research.google.com/assets/colab-badge.svg\" alt=\"Open In Colab\"/></a>"
      ]
    },
    {
      "cell_type": "markdown",
      "metadata": {
        "id": "_WRKBs2s1N8X"
      },
      "source": [
        "# Including Libraries"
      ]
    },
    {
      "cell_type": "code",
      "execution_count": 1,
      "metadata": {
        "colab": {
          "base_uri": "https://localhost:8080/"
        },
        "id": "iUuDxl7V1N8a",
        "outputId": "b7150f69-f923-4eae-e90d-a9145c4b151f"
      },
      "outputs": [
        {
          "output_type": "stream",
          "name": "stdout",
          "text": [
            "Populating the interactive namespace from numpy and matplotlib\n"
          ]
        }
      ],
      "source": [
        "%pylab inline\n",
        "from PIL import Image\n",
        "import numpy as np\n",
        "import tensorflow as tf\n",
        "from keras.models import Sequential\n",
        "from keras.layers import Dense, Dropout, Flatten,Activation\n",
        "from keras.layers import Conv2D, MaxPooling2D\n",
        "from tensorflow.keras.utils import to_categorical\n",
        "from tensorflow.keras.optimizers import Adam\n",
        "import cv2\n",
        "from sklearn.preprocessing import LabelEncoder\n",
        "from sklearn.model_selection import train_test_split\n",
        "from tqdm import tqdm\n",
        "from keras.preprocessing.image import ImageDataGenerator\n",
        "import os\n",
        "import pickle\n",
        "import random as rn"
      ]
    },
    {
      "cell_type": "code",
      "execution_count": 2,
      "metadata": {
        "id": "G9FP2fhn1N8d"
      },
      "outputs": [],
      "source": [
        "flowers_info_list=['daisy','dandelion','rose','sunflower','tulip']"
      ]
    },
    {
      "cell_type": "code",
      "execution_count": 3,
      "metadata": {
        "id": "QRFlnq8o1N8e"
      },
      "outputs": [],
      "source": [
        "images_data=[]\n",
        "labels=[]\n",
        "DAISY_DIR='/content/drive/MyDrive/flowers-recognition/train/daisy'\n",
        "SUNFLOWER_DIR='/content/drive/MyDrive/flowers-recognition/train/sunflower'\n",
        "TULIP_DIR='/content/drive/MyDrive/flowers-recognition/train/tulip'\n",
        "DANDELION_DIR='/content/drive/MyDrive/flowers-recognition/train/dandelion'\n",
        "ROSE_DIR='/content/drive/MyDrive/flowers-recognition/train/rose'"
      ]
    },
    {
      "cell_type": "markdown",
      "metadata": {
        "id": "BOCCkvFV1N8e"
      },
      "source": [
        "# Creating Directories"
      ]
    },
    {
      "cell_type": "code",
      "execution_count": 4,
      "metadata": {
        "colab": {
          "base_uri": "https://localhost:8080/"
        },
        "id": "oG4vHNwZ1N8f",
        "outputId": "3e578884-f0cf-4f1c-faa7-150d12651a13"
      },
      "outputs": [
        {
          "output_type": "stream",
          "name": "stdout",
          "text": [
            "daisy\n",
            "dandelion\n",
            "rose\n",
            "sunflower\n",
            "tulip\n"
          ]
        }
      ],
      "source": [
        "directories_list = []\n",
        "for i in flowers_info_list:\n",
        "    print(i)\n",
        "    directories_list.append(str(os.path.join('/content/drive/MyDrive/flowers-recognition/train/',str(i))))\n"
      ]
    },
    {
      "cell_type": "code",
      "execution_count": 5,
      "metadata": {
        "colab": {
          "base_uri": "https://localhost:8080/"
        },
        "id": "Jtn_ABXd1N8f",
        "outputId": "11e7f5ce-965a-4ffc-da27-329e2d6e25af"
      },
      "outputs": [
        {
          "output_type": "execute_result",
          "data": {
            "text/plain": [
              "['/content/drive/MyDrive/flowers-recognition/train/daisy',\n",
              " '/content/drive/MyDrive/flowers-recognition/train/dandelion',\n",
              " '/content/drive/MyDrive/flowers-recognition/train/rose',\n",
              " '/content/drive/MyDrive/flowers-recognition/train/sunflower',\n",
              " '/content/drive/MyDrive/flowers-recognition/train/tulip']"
            ]
          },
          "metadata": {},
          "execution_count": 5
        }
      ],
      "source": [
        "directories_list"
      ]
    },
    {
      "cell_type": "markdown",
      "metadata": {
        "id": "cptiDBfS1N8g"
      },
      "source": [
        "# Loading Images"
      ]
    },
    {
      "cell_type": "code",
      "execution_count": 6,
      "metadata": {
        "id": "Bmh6b2hZ1N8h"
      },
      "outputs": [],
      "source": [
        "def assign_label(img,flower_type):\n",
        "    return flower_type"
      ]
    },
    {
      "cell_type": "code",
      "execution_count": 7,
      "metadata": {
        "id": "csCaKunU1N8i"
      },
      "outputs": [],
      "source": [
        "def make_train_data(flower_type,DIR):\n",
        "    for img in tqdm(os.listdir(DIR)):\n",
        "        label=assign_label(img,flower_type)\n",
        "        path = os.path.join(DIR,img)\n",
        "        img = cv2.imread(path)\n",
        "        (b, g, r)=cv2.split(img)\n",
        "        img=cv2.merge([r,g,b])\n",
        "        img = cv2.resize(img, (200,200))\n",
        "        \n",
        "        images_data.append(np.array(img))\n",
        "        labels.append(str(label))"
      ]
    },
    {
      "cell_type": "code",
      "execution_count": 8,
      "metadata": {
        "scrolled": true,
        "colab": {
          "base_uri": "https://localhost:8080/"
        },
        "id": "5pPpskil1N8j",
        "outputId": "278e6f9d-d674-4133-a4b7-42aa7e415da1"
      },
      "outputs": [
        {
          "output_type": "stream",
          "name": "stdout",
          "text": [
            "daisy\n"
          ]
        },
        {
          "output_type": "stream",
          "name": "stderr",
          "text": [
            "100%|██████████| 501/501 [00:05<00:00, 97.32it/s] \n"
          ]
        },
        {
          "output_type": "stream",
          "name": "stdout",
          "text": [
            "dandelion\n"
          ]
        },
        {
          "output_type": "stream",
          "name": "stderr",
          "text": [
            "100%|██████████| 646/646 [00:06<00:00, 99.69it/s] \n"
          ]
        },
        {
          "output_type": "stream",
          "name": "stdout",
          "text": [
            "rose\n"
          ]
        },
        {
          "output_type": "stream",
          "name": "stderr",
          "text": [
            "100%|██████████| 497/497 [00:05<00:00, 98.60it/s] \n"
          ]
        },
        {
          "output_type": "stream",
          "name": "stdout",
          "text": [
            "sunflower\n"
          ]
        },
        {
          "output_type": "stream",
          "name": "stderr",
          "text": [
            "100%|██████████| 495/495 [00:06<00:00, 81.87it/s] \n"
          ]
        },
        {
          "output_type": "stream",
          "name": "stdout",
          "text": [
            "tulip\n"
          ]
        },
        {
          "output_type": "stream",
          "name": "stderr",
          "text": [
            "100%|██████████| 607/607 [00:06<00:00, 92.94it/s] \n"
          ]
        }
      ],
      "source": [
        "for i in range(len(flowers_info_list)):\n",
        "    print(flowers_info_list[i])\n",
        "    make_train_data(flowers_info_list[i],directories_list[i])"
      ]
    },
    {
      "cell_type": "code",
      "source": [
        "from google.colab import drive\n",
        "drive.mount('/content/drive')"
      ],
      "metadata": {
        "colab": {
          "base_uri": "https://localhost:8080/"
        },
        "id": "Cv1pMq-e_qf0",
        "outputId": "6aa25b4d-b5a1-4b23-9f4d-0f243fc1cce2"
      },
      "execution_count": 9,
      "outputs": [
        {
          "output_type": "stream",
          "name": "stdout",
          "text": [
            "Drive already mounted at /content/drive; to attempt to forcibly remount, call drive.mount(\"/content/drive\", force_remount=True).\n"
          ]
        }
      ]
    },
    {
      "cell_type": "code",
      "execution_count": 10,
      "metadata": {
        "scrolled": false,
        "id": "itNpPxhP1N8j",
        "colab": {
          "base_uri": "https://localhost:8080/"
        },
        "outputId": "18a180d2-5c68-4b25-fea0-8c13ae7508cd"
      },
      "outputs": [
        {
          "output_type": "execute_result",
          "data": {
            "text/plain": [
              "(200, 200, 3)"
            ]
          },
          "metadata": {},
          "execution_count": 10
        }
      ],
      "source": [
        "images_data[0].shape"
      ]
    },
    {
      "cell_type": "code",
      "execution_count": 11,
      "metadata": {
        "id": "tqdaeDoS1N8k"
      },
      "outputs": [],
      "source": [
        "# img = cv2.imread('/content/drive/MyDrive/flowers-recognition/train/daisy/2481823240_eab0d86921.jpg')\n",
        "# (b, g, r)=cv2.split(img)\n",
        "# img=cv2.merge([r,g,b])\n",
        "# img = cv2.resize(img, (150,150))\n",
        "# imshow(img)\n",
        "# show()"
      ]
    },
    {
      "cell_type": "code",
      "execution_count": 12,
      "metadata": {
        "id": "Lhts4gRi1N8k"
      },
      "outputs": [],
      "source": [
        "le=LabelEncoder()\n",
        "Y=le.fit_transform(labels)\n",
        "Y=to_categorical(Y,5)\n",
        "images_data=np.array(images_data)\n",
        "images_data=images_data/255"
      ]
    },
    {
      "cell_type": "code",
      "execution_count": 13,
      "metadata": {
        "id": "DVAS3g-d1N8l"
      },
      "outputs": [],
      "source": [
        "x_train,x_test,y_train,y_test=train_test_split(images_data,Y,test_size=0.05)"
      ]
    },
    {
      "cell_type": "code",
      "execution_count": 14,
      "metadata": {
        "id": "FgIJJvI01N8l"
      },
      "outputs": [],
      "source": [
        "model = Sequential()\n",
        "model.add(Conv2D(32, kernel_size=(3, 3), activation='relu', input_shape=(200,200,3)))\n",
        "model.add(MaxPooling2D((2, 2)))\n",
        "model.add(Dropout(0.25))\n",
        "\n",
        "model.add(Conv2D(64, kernel_size=(3, 3), activation='relu'))\n",
        "model.add(MaxPooling2D(pool_size=(2, 2)))\n",
        "model.add(Dropout(0.25))\n",
        "model.add(Conv2D(128, kernel_size=(3, 3), activation='relu'))\n",
        "model.add(Dropout(0.4))\n",
        "\n",
        "model.add(Flatten())\n",
        "\n",
        "model.add(Dense(128, activation='relu'))\n",
        "model.add(Dropout(0.3))\n",
        "model.add(Dense(5, activation='softmax'))"
      ]
    },
    {
      "cell_type": "code",
      "execution_count": 15,
      "metadata": {
        "id": "gfwZ5lvv1N8l",
        "colab": {
          "base_uri": "https://localhost:8080/"
        },
        "outputId": "eb29ef3a-536f-4574-a678-37125878fc51"
      },
      "outputs": [
        {
          "output_type": "stream",
          "name": "stderr",
          "text": [
            "/usr/local/lib/python3.7/dist-packages/keras/optimizer_v2/adam.py:105: UserWarning: The `lr` argument is deprecated, use `learning_rate` instead.\n",
            "  super(Adam, self).__init__(name, **kwargs)\n"
          ]
        }
      ],
      "source": [
        "model.compile(optimizer=Adam(lr=0.001),loss='categorical_crossentropy',metrics=['accuracy'])\n",
        "# model.compile(optimizer='adam',loss = tf.keras.losses.SparseCategoricalCrossentropy(from_logits=True), metrics=['accuracy'])"
      ]
    },
    {
      "cell_type": "code",
      "execution_count": 16,
      "metadata": {
        "scrolled": true,
        "id": "BEWQCrjY1N8m",
        "colab": {
          "base_uri": "https://localhost:8080/"
        },
        "outputId": "e5c5bdb4-f42b-4fe8-b000-0ba5b8637e72"
      },
      "outputs": [
        {
          "output_type": "stream",
          "name": "stdout",
          "text": [
            "Epoch 1/10\n",
            "66/66 - 242s - loss: 2.1845 - accuracy: 0.3079 - val_loss: 1.2622 - val_accuracy: 0.4420 - 242s/epoch - 4s/step\n",
            "Epoch 2/10\n",
            "66/66 - 238s - loss: 1.3224 - accuracy: 0.4310 - val_loss: 1.1965 - val_accuracy: 0.4710 - 238s/epoch - 4s/step\n",
            "Epoch 3/10\n",
            "66/66 - 238s - loss: 1.2157 - accuracy: 0.4908 - val_loss: 1.1342 - val_accuracy: 0.5362 - 238s/epoch - 4s/step\n",
            "Epoch 4/10\n",
            "66/66 - 236s - loss: 1.1366 - accuracy: 0.5322 - val_loss: 1.0298 - val_accuracy: 0.5217 - 236s/epoch - 4s/step\n",
            "Epoch 5/10\n",
            "66/66 - 240s - loss: 1.0669 - accuracy: 0.5805 - val_loss: 1.1398 - val_accuracy: 0.5217 - 240s/epoch - 4s/step\n",
            "Epoch 6/10\n",
            "66/66 - 240s - loss: 0.9777 - accuracy: 0.6258 - val_loss: 0.9699 - val_accuracy: 0.6159 - 240s/epoch - 4s/step\n",
            "Epoch 7/10\n",
            "66/66 - 242s - loss: 0.8263 - accuracy: 0.6887 - val_loss: 1.0653 - val_accuracy: 0.5652 - 242s/epoch - 4s/step\n",
            "Epoch 8/10\n",
            "66/66 - 248s - loss: 0.7102 - accuracy: 0.7389 - val_loss: 0.9993 - val_accuracy: 0.5797 - 248s/epoch - 4s/step\n",
            "Epoch 9/10\n",
            "66/66 - 232s - loss: 0.5407 - accuracy: 0.8048 - val_loss: 1.1033 - val_accuracy: 0.5942 - 232s/epoch - 4s/step\n",
            "Epoch 10/10\n",
            "66/66 - 232s - loss: 0.3848 - accuracy: 0.8692 - val_loss: 1.2903 - val_accuracy: 0.5797 - 232s/epoch - 4s/step\n"
          ]
        },
        {
          "output_type": "execute_result",
          "data": {
            "text/plain": [
              "<keras.callbacks.History at 0x7f8c4c2b2090>"
            ]
          },
          "metadata": {},
          "execution_count": 16
        }
      ],
      "source": [
        "model.fit(x_train,y_train,validation_data=(x_test,y_test),epochs=10,batch_size=40,verbose=2)\n",
        "# flower_model = tf.keras.models.load_model('/content/drive/MyDrive/flowers-recognition/weights.best.from_scratch.hdf5')"
      ]
    },
    {
      "cell_type": "markdown",
      "metadata": {
        "id": "6wGGrb3l1N8m"
      },
      "source": [
        "## Predicting Random Image"
      ]
    },
    {
      "cell_type": "code",
      "execution_count": 33,
      "metadata": {
        "id": "6qytif3n1N8n"
      },
      "outputs": [],
      "source": [
        "test=[]\n",
        "img = cv2.imread(\"/content/drive/MyDrive/flowers-recognition/rose.jpg\")\n",
        "(b, g, r)=cv2.split(img)\n",
        "img=cv2.merge([r,g,b])\n",
        "img = cv2.resize(img, (200,200))\n",
        "test.append(np.array(img))\n",
        "test = array(test)\n",
        "test = test/255"
      ]
    },
    {
      "cell_type": "code",
      "execution_count": 34,
      "metadata": {
        "id": "0ncgW1iL1N8o",
        "colab": {
          "base_uri": "https://localhost:8080/"
        },
        "outputId": "5923ef00-48d4-4924-bab9-806c0208c275"
      },
      "outputs": [
        {
          "output_type": "stream",
          "name": "stdout",
          "text": [
            "[4]\n"
          ]
        }
      ],
      "source": [
        "# flowers_info_list[int((model.predict(test) > 0.5)*1)]\n",
        "# flowers_info_list[int(model.predict_classes(test))]\n",
        "predict_x=model.predict(test) \n",
        "classes_x=np.argmax(predict_x,axis=1)\n",
        "print(classes_x)"
      ]
    },
    {
      "cell_type": "code",
      "execution_count": 47,
      "metadata": {
        "id": "YkE5UlAC1N8o",
        "colab": {
          "base_uri": "https://localhost:8080/"
        },
        "outputId": "f298c33b-cef4-4029-87a2-4e47586eaa6a"
      },
      "outputs": [
        {
          "output_type": "execute_result",
          "data": {
            "text/plain": [
              "['daisy', 'dandelion', 'rose', 'sunflower', 'tulip']"
            ]
          },
          "metadata": {},
          "execution_count": 47
        }
      ],
      "source": [
        "flowers_info_list"
      ]
    },
    {
      "cell_type": "code",
      "execution_count": 48,
      "metadata": {
        "id": "D3qGzTH-1N8o"
      },
      "outputs": [],
      "source": [
        "flowers_test_list=list(os.listdir('/content/drive/MyDrive/flowers-recognition/test1'))\n",
        "# flowers_test_list= flowers_info_list"
      ]
    },
    {
      "cell_type": "code",
      "execution_count": 49,
      "metadata": {
        "id": "8guGfyDi1N8p",
        "colab": {
          "base_uri": "https://localhost:8080/"
        },
        "outputId": "e760db29-bd85-40f4-a2c3-76fa1cc30ff4"
      },
      "outputs": [
        {
          "output_type": "stream",
          "name": "stdout",
          "text": [
            "tulip\n",
            "sunflower\n",
            "rose\n",
            "dandelion\n",
            "daisy\n",
            "['/content/drive/MyDrive/flowers-recognition/test1/tulip', '/content/drive/MyDrive/flowers-recognition/test1/sunflower', '/content/drive/MyDrive/flowers-recognition/test1/rose', '/content/drive/MyDrive/flowers-recognition/test1/dandelion', '/content/drive/MyDrive/flowers-recognition/test1/daisy']\n"
          ]
        }
      ],
      "source": [
        "test_directory=[]\n",
        "for i in flowers_test_list:\n",
        "    print(i)\n",
        "    test_directory.append(str(os.path.join('/content/drive/MyDrive/flowers-recognition/test1/',str(i))))\n",
        "print(test_directory)"
      ]
    },
    {
      "cell_type": "code",
      "execution_count": 54,
      "metadata": {
        "id": "dEkrS6dR1N8p"
      },
      "outputs": [],
      "source": [
        "def test_dir(DIR,label):\n",
        "    print(label+'\\n\\n')\n",
        "    corr=0\n",
        "    wrong=0\n",
        "    for i in tqdm(os.listdir(DIR)):\n",
        "        test=[]\n",
        "        path = os.path.join(DIR,i)\n",
        "        img = cv2.imread(path)\n",
        "        (b, g, r)=cv2.split(img)\n",
        "        img=cv2.merge([r,g,b])\n",
        "        img = cv2.resize(img, (200,200))\n",
        "        test.append(np.array(img))\n",
        "        test = array(test)\n",
        "        test = test/255\n",
        "        predict_x=model.predict(test) \n",
        "        classes_x=np.argmax(predict_x,axis=1)\n",
        "        print(flowers_info_list[int(classes_x)])\n",
        "        if((flowers_info_list[int(classes_x)])==label):\n",
        "            corr+=1\n",
        "        else:\n",
        "            wrong+=1\n",
        "\n",
        "    print('correctly predicted: ',corr,'\\n','wrongly predicted: ',wrong,'\\n')\n",
        "    print('Percentage: ',corr/(corr+wrong)*100)\n",
        "    "
      ]
    },
    {
      "cell_type": "code",
      "execution_count": 55,
      "metadata": {
        "id": "sMlU6x8W1N8p",
        "colab": {
          "base_uri": "https://localhost:8080/"
        },
        "outputId": "736f20f2-89e8-4565-bbf8-80adedae8afe"
      },
      "outputs": [
        {
          "output_type": "stream",
          "name": "stdout",
          "text": [
            "tulip\n",
            "\n",
            "\n"
          ]
        },
        {
          "output_type": "stream",
          "name": "stderr",
          "text": [
            "  8%|▊         | 1/12 [00:00<00:01,  9.99it/s]"
          ]
        },
        {
          "output_type": "stream",
          "name": "stdout",
          "text": [
            "tulip\n",
            "tulip\n"
          ]
        },
        {
          "output_type": "stream",
          "name": "stderr",
          "text": [
            "\r 25%|██▌       | 3/12 [00:00<00:00, 10.65it/s]"
          ]
        },
        {
          "output_type": "stream",
          "name": "stdout",
          "text": [
            "dandelion\n"
          ]
        },
        {
          "output_type": "stream",
          "name": "stderr",
          "text": [
            "\r 42%|████▏     | 5/12 [00:00<00:00, 11.03it/s]"
          ]
        },
        {
          "output_type": "stream",
          "name": "stdout",
          "text": [
            "tulip\n",
            "tulip\n",
            "tulip\n"
          ]
        },
        {
          "output_type": "stream",
          "name": "stderr",
          "text": [
            "\r 58%|█████▊    | 7/12 [00:00<00:00, 10.29it/s]"
          ]
        },
        {
          "output_type": "stream",
          "name": "stdout",
          "text": [
            "tulip\n",
            "tulip\n"
          ]
        },
        {
          "output_type": "stream",
          "name": "stderr",
          "text": [
            "\r 75%|███████▌  | 9/12 [00:00<00:00,  9.04it/s]"
          ]
        },
        {
          "output_type": "stream",
          "name": "stdout",
          "text": [
            "tulip\n"
          ]
        },
        {
          "output_type": "stream",
          "name": "stderr",
          "text": [
            "\r 83%|████████▎ | 10/12 [00:01<00:00,  9.04it/s]"
          ]
        },
        {
          "output_type": "stream",
          "name": "stdout",
          "text": [
            "tulip\n"
          ]
        },
        {
          "output_type": "stream",
          "name": "stderr",
          "text": [
            "\r 92%|█████████▏| 11/12 [00:01<00:00,  9.09it/s]"
          ]
        },
        {
          "output_type": "stream",
          "name": "stdout",
          "text": [
            "sunflower\n"
          ]
        },
        {
          "output_type": "stream",
          "name": "stderr",
          "text": [
            "100%|██████████| 12/12 [00:01<00:00,  9.49it/s]\n"
          ]
        },
        {
          "output_type": "stream",
          "name": "stdout",
          "text": [
            "rose\n",
            "correctly predicted:  9 \n",
            " wrongly predicted:  3 \n",
            "\n",
            "Percentage:  75.0\n",
            "sunflower\n",
            "\n",
            "\n"
          ]
        },
        {
          "output_type": "stream",
          "name": "stderr",
          "text": [
            "  8%|▊         | 1/12 [00:00<00:01,  8.98it/s]"
          ]
        },
        {
          "output_type": "stream",
          "name": "stdout",
          "text": [
            "sunflower\n"
          ]
        },
        {
          "output_type": "stream",
          "name": "stderr",
          "text": [
            "\r 17%|█▋        | 2/12 [00:00<00:01,  8.82it/s]"
          ]
        },
        {
          "output_type": "stream",
          "name": "stdout",
          "text": [
            "sunflower\n"
          ]
        },
        {
          "output_type": "stream",
          "name": "stderr",
          "text": [
            "\r 25%|██▌       | 3/12 [00:00<00:01,  8.52it/s]"
          ]
        },
        {
          "output_type": "stream",
          "name": "stdout",
          "text": [
            "daisy\n"
          ]
        },
        {
          "output_type": "stream",
          "name": "stderr",
          "text": [
            "\r 33%|███▎      | 4/12 [00:00<00:00,  8.82it/s]"
          ]
        },
        {
          "output_type": "stream",
          "name": "stdout",
          "text": [
            "dandelion\n"
          ]
        },
        {
          "output_type": "stream",
          "name": "stderr",
          "text": [
            "\r 42%|████▏     | 5/12 [00:00<00:00,  8.72it/s]"
          ]
        },
        {
          "output_type": "stream",
          "name": "stdout",
          "text": [
            "sunflower\n"
          ]
        },
        {
          "output_type": "stream",
          "name": "stderr",
          "text": [
            "\r 50%|█████     | 6/12 [00:00<00:00,  8.47it/s]"
          ]
        },
        {
          "output_type": "stream",
          "name": "stdout",
          "text": [
            "sunflower\n"
          ]
        },
        {
          "output_type": "stream",
          "name": "stderr",
          "text": [
            "\r 58%|█████▊    | 7/12 [00:00<00:00,  8.71it/s]"
          ]
        },
        {
          "output_type": "stream",
          "name": "stdout",
          "text": [
            "tulip\n"
          ]
        },
        {
          "output_type": "stream",
          "name": "stderr",
          "text": [
            "\r 67%|██████▋   | 8/12 [00:00<00:00,  8.78it/s]"
          ]
        },
        {
          "output_type": "stream",
          "name": "stdout",
          "text": [
            "sunflower\n"
          ]
        },
        {
          "output_type": "stream",
          "name": "stderr",
          "text": [
            "\r 75%|███████▌  | 9/12 [00:01<00:00,  8.91it/s]"
          ]
        },
        {
          "output_type": "stream",
          "name": "stdout",
          "text": [
            "sunflower\n"
          ]
        },
        {
          "output_type": "stream",
          "name": "stderr",
          "text": [
            "\r 83%|████████▎ | 10/12 [00:01<00:00,  8.85it/s]"
          ]
        },
        {
          "output_type": "stream",
          "name": "stdout",
          "text": [
            "daisy\n"
          ]
        },
        {
          "output_type": "stream",
          "name": "stderr",
          "text": [
            "\r 92%|█████████▏| 11/12 [00:01<00:00,  8.88it/s]"
          ]
        },
        {
          "output_type": "stream",
          "name": "stdout",
          "text": [
            "tulip\n"
          ]
        },
        {
          "output_type": "stream",
          "name": "stderr",
          "text": [
            "100%|██████████| 12/12 [00:01<00:00,  8.77it/s]\n"
          ]
        },
        {
          "output_type": "stream",
          "name": "stdout",
          "text": [
            "sunflower\n",
            "correctly predicted:  7 \n",
            " wrongly predicted:  5 \n",
            "\n",
            "Percentage:  58.333333333333336\n",
            "rose\n",
            "\n",
            "\n"
          ]
        },
        {
          "output_type": "stream",
          "name": "stderr",
          "text": [
            "  8%|▊         | 1/12 [00:00<00:01,  8.07it/s]"
          ]
        },
        {
          "output_type": "stream",
          "name": "stdout",
          "text": [
            "tulip\n"
          ]
        },
        {
          "output_type": "stream",
          "name": "stderr",
          "text": [
            "\r 17%|█▋        | 2/12 [00:00<00:01,  8.37it/s]"
          ]
        },
        {
          "output_type": "stream",
          "name": "stdout",
          "text": [
            "rose\n"
          ]
        },
        {
          "output_type": "stream",
          "name": "stderr",
          "text": [
            "\r 25%|██▌       | 3/12 [00:00<00:01,  8.80it/s]"
          ]
        },
        {
          "output_type": "stream",
          "name": "stdout",
          "text": [
            "rose\n"
          ]
        },
        {
          "output_type": "stream",
          "name": "stderr",
          "text": [
            "\r 33%|███▎      | 4/12 [00:00<00:00,  8.54it/s]"
          ]
        },
        {
          "output_type": "stream",
          "name": "stdout",
          "text": [
            "rose\n"
          ]
        },
        {
          "output_type": "stream",
          "name": "stderr",
          "text": [
            "\r 42%|████▏     | 5/12 [00:00<00:00,  8.51it/s]"
          ]
        },
        {
          "output_type": "stream",
          "name": "stdout",
          "text": [
            "rose\n"
          ]
        },
        {
          "output_type": "stream",
          "name": "stderr",
          "text": [
            "\r 50%|█████     | 6/12 [00:00<00:00,  8.35it/s]"
          ]
        },
        {
          "output_type": "stream",
          "name": "stdout",
          "text": [
            "rose\n"
          ]
        },
        {
          "output_type": "stream",
          "name": "stderr",
          "text": [
            "\r 58%|█████▊    | 7/12 [00:00<00:00,  8.57it/s]"
          ]
        },
        {
          "output_type": "stream",
          "name": "stdout",
          "text": [
            "daisy\n"
          ]
        },
        {
          "output_type": "stream",
          "name": "stderr",
          "text": [
            "\r 67%|██████▋   | 8/12 [00:00<00:00,  8.86it/s]"
          ]
        },
        {
          "output_type": "stream",
          "name": "stdout",
          "text": [
            "rose\n"
          ]
        },
        {
          "output_type": "stream",
          "name": "stderr",
          "text": [
            "\r 75%|███████▌  | 9/12 [00:01<00:00,  9.02it/s]"
          ]
        },
        {
          "output_type": "stream",
          "name": "stdout",
          "text": [
            "daisy\n"
          ]
        },
        {
          "output_type": "stream",
          "name": "stderr",
          "text": [
            "\r 83%|████████▎ | 10/12 [00:01<00:00,  9.19it/s]"
          ]
        },
        {
          "output_type": "stream",
          "name": "stdout",
          "text": [
            "rose\n"
          ]
        },
        {
          "output_type": "stream",
          "name": "stderr",
          "text": [
            "\r 92%|█████████▏| 11/12 [00:01<00:00,  9.08it/s]"
          ]
        },
        {
          "output_type": "stream",
          "name": "stdout",
          "text": [
            "tulip\n"
          ]
        },
        {
          "output_type": "stream",
          "name": "stderr",
          "text": [
            "100%|██████████| 12/12 [00:01<00:00,  8.81it/s]\n"
          ]
        },
        {
          "output_type": "stream",
          "name": "stdout",
          "text": [
            "tulip\n",
            "correctly predicted:  7 \n",
            " wrongly predicted:  5 \n",
            "\n",
            "Percentage:  58.333333333333336\n",
            "dandelion\n",
            "\n",
            "\n"
          ]
        },
        {
          "output_type": "stream",
          "name": "stderr",
          "text": [
            "  9%|▉         | 1/11 [00:00<00:01,  9.74it/s]"
          ]
        },
        {
          "output_type": "stream",
          "name": "stdout",
          "text": [
            "sunflower\n"
          ]
        },
        {
          "output_type": "stream",
          "name": "stderr",
          "text": [
            "\r 18%|█▊        | 2/11 [00:00<00:00,  9.06it/s]"
          ]
        },
        {
          "output_type": "stream",
          "name": "stdout",
          "text": [
            "dandelion\n"
          ]
        },
        {
          "output_type": "stream",
          "name": "stderr",
          "text": [
            "\r 27%|██▋       | 3/11 [00:00<00:00,  9.06it/s]"
          ]
        },
        {
          "output_type": "stream",
          "name": "stdout",
          "text": [
            "dandelion\n"
          ]
        },
        {
          "output_type": "stream",
          "name": "stderr",
          "text": [
            "\r 36%|███▋      | 4/11 [00:00<00:00,  8.79it/s]"
          ]
        },
        {
          "output_type": "stream",
          "name": "stdout",
          "text": [
            "tulip\n"
          ]
        },
        {
          "output_type": "stream",
          "name": "stderr",
          "text": [
            "\r 45%|████▌     | 5/11 [00:00<00:00,  8.62it/s]"
          ]
        },
        {
          "output_type": "stream",
          "name": "stdout",
          "text": [
            "dandelion\n"
          ]
        },
        {
          "output_type": "stream",
          "name": "stderr",
          "text": [
            "\r 55%|█████▍    | 6/11 [00:00<00:00,  8.71it/s]"
          ]
        },
        {
          "output_type": "stream",
          "name": "stdout",
          "text": [
            "dandelion\n"
          ]
        },
        {
          "output_type": "stream",
          "name": "stderr",
          "text": [
            "\r 64%|██████▎   | 7/11 [00:00<00:00,  8.79it/s]"
          ]
        },
        {
          "output_type": "stream",
          "name": "stdout",
          "text": [
            "sunflower\n"
          ]
        },
        {
          "output_type": "stream",
          "name": "stderr",
          "text": [
            "\r 73%|███████▎  | 8/11 [00:00<00:00,  8.87it/s]"
          ]
        },
        {
          "output_type": "stream",
          "name": "stdout",
          "text": [
            "dandelion\n"
          ]
        },
        {
          "output_type": "stream",
          "name": "stderr",
          "text": [
            "\r 82%|████████▏ | 9/11 [00:01<00:00,  8.98it/s]"
          ]
        },
        {
          "output_type": "stream",
          "name": "stdout",
          "text": [
            "dandelion\n"
          ]
        },
        {
          "output_type": "stream",
          "name": "stderr",
          "text": [
            "\r 91%|█████████ | 10/11 [00:01<00:00,  8.93it/s]"
          ]
        },
        {
          "output_type": "stream",
          "name": "stdout",
          "text": [
            "dandelion\n"
          ]
        },
        {
          "output_type": "stream",
          "name": "stderr",
          "text": [
            "100%|██████████| 11/11 [00:01<00:00,  8.87it/s]\n"
          ]
        },
        {
          "output_type": "stream",
          "name": "stdout",
          "text": [
            "dandelion\n",
            "correctly predicted:  8 \n",
            " wrongly predicted:  3 \n",
            "\n",
            "Percentage:  72.72727272727273\n",
            "daisy\n",
            "\n",
            "\n"
          ]
        },
        {
          "output_type": "stream",
          "name": "stderr",
          "text": [
            "  8%|▊         | 1/12 [00:00<00:01,  7.70it/s]"
          ]
        },
        {
          "output_type": "stream",
          "name": "stdout",
          "text": [
            "daisy\n"
          ]
        },
        {
          "output_type": "stream",
          "name": "stderr",
          "text": [
            "\r 17%|█▋        | 2/12 [00:00<00:01,  8.59it/s]"
          ]
        },
        {
          "output_type": "stream",
          "name": "stdout",
          "text": [
            "daisy\n"
          ]
        },
        {
          "output_type": "stream",
          "name": "stderr",
          "text": [
            "\r 25%|██▌       | 3/12 [00:00<00:01,  8.64it/s]"
          ]
        },
        {
          "output_type": "stream",
          "name": "stdout",
          "text": [
            "daisy\n"
          ]
        },
        {
          "output_type": "stream",
          "name": "stderr",
          "text": [
            "\r 33%|███▎      | 4/12 [00:00<00:00,  8.64it/s]"
          ]
        },
        {
          "output_type": "stream",
          "name": "stdout",
          "text": [
            "daisy\n"
          ]
        },
        {
          "output_type": "stream",
          "name": "stderr",
          "text": [
            "\r 42%|████▏     | 5/12 [00:00<00:00,  8.80it/s]"
          ]
        },
        {
          "output_type": "stream",
          "name": "stdout",
          "text": [
            "daisy\n"
          ]
        },
        {
          "output_type": "stream",
          "name": "stderr",
          "text": [
            "\r 50%|█████     | 6/12 [00:00<00:00,  8.91it/s]"
          ]
        },
        {
          "output_type": "stream",
          "name": "stdout",
          "text": [
            "dandelion\n"
          ]
        },
        {
          "output_type": "stream",
          "name": "stderr",
          "text": [
            "\r 58%|█████▊    | 7/12 [00:00<00:00,  9.00it/s]"
          ]
        },
        {
          "output_type": "stream",
          "name": "stdout",
          "text": [
            "dandelion\n"
          ]
        },
        {
          "output_type": "stream",
          "name": "stderr",
          "text": [
            "\r 67%|██████▋   | 8/12 [00:00<00:00,  9.07it/s]"
          ]
        },
        {
          "output_type": "stream",
          "name": "stdout",
          "text": [
            "daisy\n"
          ]
        },
        {
          "output_type": "stream",
          "name": "stderr",
          "text": [
            "\r 75%|███████▌  | 9/12 [00:01<00:00,  9.20it/s]"
          ]
        },
        {
          "output_type": "stream",
          "name": "stdout",
          "text": [
            "daisy\n"
          ]
        },
        {
          "output_type": "stream",
          "name": "stderr",
          "text": [
            "\r 83%|████████▎ | 10/12 [00:01<00:00,  9.15it/s]"
          ]
        },
        {
          "output_type": "stream",
          "name": "stdout",
          "text": [
            "dandelion\n"
          ]
        },
        {
          "output_type": "stream",
          "name": "stderr",
          "text": [
            "\r 92%|█████████▏| 11/12 [00:01<00:00,  8.68it/s]"
          ]
        },
        {
          "output_type": "stream",
          "name": "stdout",
          "text": [
            "daisy\n"
          ]
        },
        {
          "output_type": "stream",
          "name": "stderr",
          "text": [
            "100%|██████████| 12/12 [00:01<00:00,  8.83it/s]"
          ]
        },
        {
          "output_type": "stream",
          "name": "stdout",
          "text": [
            "daisy\n",
            "correctly predicted:  9 \n",
            " wrongly predicted:  3 \n",
            "\n",
            "Percentage:  75.0\n"
          ]
        },
        {
          "output_type": "stream",
          "name": "stderr",
          "text": [
            "\n"
          ]
        }
      ],
      "source": [
        "for i in range(len(flowers_test_list)):\n",
        "    test_dir(test_directory[i],flowers_test_list[i])\n",
        "    "
      ]
    }
  ],
  "metadata": {
    "kernelspec": {
      "display_name": "Python 3",
      "language": "python",
      "name": "python3"
    },
    "language_info": {
      "codemirror_mode": {
        "name": "ipython",
        "version": 3
      },
      "file_extension": ".py",
      "mimetype": "text/x-python",
      "name": "python",
      "nbconvert_exporter": "python",
      "pygments_lexer": "ipython3",
      "version": "3.7.3"
    },
    "colab": {
      "name": "Flowers Classification.ipynb",
      "provenance": [],
      "collapsed_sections": [],
      "include_colab_link": true
    }
  },
  "nbformat": 4,
  "nbformat_minor": 0
}